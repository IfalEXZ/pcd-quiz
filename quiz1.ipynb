{
 "cells": [
  {
   "cell_type": "code",
   "execution_count": null,
   "metadata": {},
   "outputs": [],
   "source": [
    "from skimage import color\n",
    "from skimage import io\n",
    "\n",
    "img = io.imread('https://akcdn.detik.net.id/community/media/visual/2023/10/18/avatar-the-last-airbender-3.png?w=700&q=90g')\n",
    "imgGray = color.rgb2gray(img)\n",
    "\n",
    "io.imshow(imgGray)"
   ]
  }
 ],
 "metadata": {
  "language_info": {
   "name": "python"
  }
 },
 "nbformat": 4,
 "nbformat_minor": 2
}
